{
  "nbformat": 4,
  "nbformat_minor": 0,
  "metadata": {
    "colab": {
      "provenance": [],
      "authorship_tag": "ABX9TyP/MEtYdQK/88JjM0OAAfnc",
      "include_colab_link": true
    },
    "kernelspec": {
      "name": "python3",
      "display_name": "Python 3"
    },
    "language_info": {
      "name": "python"
    }
  },
  "cells": [
    {
      "cell_type": "markdown",
      "metadata": {
        "id": "view-in-github",
        "colab_type": "text"
      },
      "source": [
        "<a href=\"https://colab.research.google.com/github/MDRafiqul-Islam/Cryptography/blob/main/Chaums_Update.ipynb\" target=\"_parent\"><img src=\"https://colab.research.google.com/assets/colab-badge.svg\" alt=\"Open In Colab\"/></a>"
      ]
    },
    {
      "cell_type": "code",
      "execution_count": null,
      "metadata": {
        "id": "6mRgkWfW3NAp",
        "colab": {
          "base_uri": "https://localhost:8080/"
        },
        "outputId": "547a03e8-d78a-499d-b684-156c1663d36d"
      },
      "outputs": [
        {
          "output_type": "stream",
          "name": "stdout",
          "text": [
            "Looking in indexes: https://pypi.org/simple, https://us-python.pkg.dev/colab-wheels/public/simple/\n",
            "Requirement already satisfied: pycryptodome in /usr/local/lib/python3.8/dist-packages (3.16.0)\n"
          ]
        }
      ],
      "source": [
        "!pip install pycryptodome\n",
        "from random import randrange, random\n",
        "import random\n",
        "from random import randint\n",
        "import Crypto.Util.number"
      ]
    },
    {
      "cell_type": "code",
      "source": [
        "n_o_b = int(input(\"please enter number of bits: \"))"
      ],
      "metadata": {
        "id": "bvWoBInP3Q0r",
        "colab": {
          "base_uri": "https://localhost:8080/"
        },
        "outputId": "81f28645-2739-4081-91c9-fa679626eaab"
      },
      "execution_count": null,
      "outputs": [
        {
          "name": "stdout",
          "output_type": "stream",
          "text": [
            "please enter number of bits: 1024\n"
          ]
        }
      ]
    },
    {
      "cell_type": "code",
      "source": [
        "p=Crypto.Util.number.getPrime(n_o_b, randfunc=Crypto.Random.get_random_bytes)\n",
        "q=Crypto.Util.number.getPrime(n_o_b, randfunc=Crypto.Random.get_random_bytes)\n",
        "print('The value of first prime is:', p)\n",
        "print('The value of seconf prime is:', q)\n",
        "\n",
        "n = p * q\n",
        "print('The value of n is:', n)\n",
        "\n",
        "phi = (p-1) * (q-1)\n",
        "if phi < 1 or phi > n:\n",
        "  raise ValueError('phi_n cannot extend the limit')\n",
        "print('The value of phi_n is:', phi)"
      ],
      "metadata": {
        "id": "crrptepU3Vlz",
        "colab": {
          "base_uri": "https://localhost:8080/"
        },
        "outputId": "bf980348-0e79-46e5-a885-6c2b585d35e1"
      },
      "execution_count": null,
      "outputs": [
        {
          "output_type": "stream",
          "name": "stdout",
          "text": [
            "The value of first prime is: 160467677354030404818577328497980813691199581221905812694352671634378869942097592504894702645876672504398520693859686611154829588850362688697957885552314429449223973195197609618749416271118923341535058733125688856304687449247510490702483921616572570811349411957630634571452443305038843382135313923468134016689\n",
            "The value of seconf prime is: 121711135610729484819383964276231756833587663580943934095423470654337140267785793089925166363218559267340147679254706694199612708648444245391120189800362647375828202491519824672282139579179091371127870154599006720193205249605270162842565290818132394026168117712012317322076534029645802908319593551633268700747\n",
            "The value of n is: 19530703239575179315568631800462668397529478841008413458691696714593221672543710465532724983214918238166367914567639287861605289939014720463474518202509943714540277743135188559956017074193851505141145286661873162787208876074370470502902448160392900044686729582302563321691938286311937827015396533813887324155211374207065759159091628147887345247883546960118568831603629220407369472227130216359852043976214176990417284787722023227262830525717147190183297678691441491287048706188121108294743997595156885572180110815070846199476060112956901531363580868839497561834650516945436775445874689565849396211174993644117444766683\n",
            "The value of phi_n is: 19530703239575179315568631800462668397529478841008413458691696714593221672543710465532724983214918238166367914567639287861605289939014720463474518202509943714540277743135188559956017074193851505141145286661873162787208876074370470502902448160392900044686729582302563321691938286311937827015396533813887324154929195394100999269453666855113132677358759715315719084813853078118653462017246830765032174967118945218678616414607629921908388228218340256094219603338764414461996530501403674003712441744858870859517181927346150622978167414104120877818531656404792596997132987275793823552345712231164749920720086169016042049248\n"
          ]
        }
      ]
    },
    {
      "cell_type": "code",
      "source": [
        "def gcd(a, b):\n",
        "    while b:\n",
        "        a, b = b, a%b\n",
        "    return a"
      ],
      "metadata": {
        "id": "DMQg3P-M3be5"
      },
      "execution_count": null,
      "outputs": []
    },
    {
      "cell_type": "code",
      "source": [
        "def modInverse(x, p):\n",
        "  y = pow(x, -1, p)\n",
        "  return y"
      ],
      "metadata": {
        "id": "aKskOLEmVC9L"
      },
      "execution_count": null,
      "outputs": []
    },
    {
      "cell_type": "code",
      "source": [
        "e = random.randint(2,5)\n",
        "while(True):\n",
        "  co_prime = gcd(e,phi)\n",
        "  if co_prime==1:\n",
        "      break\n",
        "  else:\n",
        "      e = e + 1\n",
        "d = modInverse(e,phi)\n",
        "\n",
        "print('The value of Public key is:', e)\n",
        "print('The value of Private key is:', d)"
      ],
      "metadata": {
        "id": "xUoNND9q3iHT",
        "colab": {
          "base_uri": "https://localhost:8080/"
        },
        "outputId": "0cd45c03-b93c-434f-aa9b-1d7764820276"
      },
      "execution_count": null,
      "outputs": [
        {
          "output_type": "stream",
          "name": "stdout",
          "text": [
            "The value of Public key is: 5\n",
            "The value of Private key is: 11718421943745107589341179080277601038517687304605048075215018028755933003526226279319634989928950942899820748740583572716963173963408832278084710921505966228724166645881113135973610244516310903084687171997123897672325325644622282301741468896235740026812037749381537993015162971787162696209237920288332394492957517236460599561672200113067879606415255829189431450888311846871192077210348098459019304980271367131207169848764577953145032936931004153656531762003258648677197918300842204402227465046915322515710309156407690373786900448462472526691118993842875558198279792365476294131407427338698849952432051701409625229549\n"
          ]
        }
      ]
    },
    {
      "cell_type": "code",
      "source": [
        "# l=input(\"What is your message: \")\n",
        "# res = ''.join(format(ord(i), '08b') for i in l)\n",
        "# print(res)\n",
        "# message = int(res, 2)\n",
        "# print(message)\n",
        "message=int(input(\"What is your message: \"))\n",
        "print('The message is: ',message)"
      ],
      "metadata": {
        "id": "KMAwGhzG3knu",
        "colab": {
          "base_uri": "https://localhost:8080/"
        },
        "outputId": "c22f0976-712f-461a-8593-b7c4a2e42f43"
      },
      "execution_count": null,
      "outputs": [
        {
          "output_type": "stream",
          "name": "stdout",
          "text": [
            "What is your message: 1234567\n",
            "The message is:  1234567\n"
          ]
        }
      ]
    },
    {
      "cell_type": "code",
      "source": [
        "r = random.randint(2,2**n_o_b)\n",
        "print('The random integer is:', r)"
      ],
      "metadata": {
        "id": "pE9rt1rW3tf3",
        "colab": {
          "base_uri": "https://localhost:8080/"
        },
        "outputId": "689fda70-b48b-47b7-d992-5febdef2ebd8"
      },
      "execution_count": null,
      "outputs": [
        {
          "output_type": "stream",
          "name": "stdout",
          "text": [
            "The random integer is: 57920697786519782919215055021689385382528034122748497678600438799337568824881932724563063595336352737290585529690404664714048306270484616057365627384578869379181724911663361316910813325174072658725708781900531233552236912755955532889995462424864760884884852480569401967610392572093892492442134456716283936437\n"
          ]
        }
      ]
    },
    {
      "cell_type": "markdown",
      "source": [
        "----------Blinding phase-----------"
      ],
      "metadata": {
        "id": "m-W_DeD8LRSk"
      }
    },
    {
      "cell_type": "code",
      "source": [
        "temp = pow(r,e)\n",
        "temp1 =(message*temp)\n",
        "alpha = pow(temp1,1,n)\n",
        "print ('The value of alpha is:', alpha)"
      ],
      "metadata": {
        "id": "3dBA1gzk38d_",
        "colab": {
          "base_uri": "https://localhost:8080/"
        },
        "outputId": "f6ce5d3c-ec01-4e1d-8c59-fe53aee2ced8"
      },
      "execution_count": null,
      "outputs": [
        {
          "output_type": "stream",
          "name": "stdout",
          "text": [
            "The value of alpha is: 5335880951551272070584497366995420030807474096942065364264500989164191278397493703251393485019788890579550704708642721320007708550433856773545619505901994079807535711914527038031115769315314307329126521807285246864927042125828092278887239127702099863687812860036303376014150906736771518895897642392256497416244486089980601436765908159146818585516664508933430381793497806793295494520428395369876655761453085597149382136512280011563743991046667552641633604468244721671721041096082920574873757589168882861221007910755003705033636667071352123342759407014275565499241392956630729228232161771797278854557935654457038697080\n"
          ]
        }
      ]
    },
    {
      "cell_type": "markdown",
      "source": [
        "----------Signing Phase-------------"
      ],
      "metadata": {
        "id": "xQx8lScWMgPT"
      }
    },
    {
      "cell_type": "code",
      "source": [
        "T = pow(alpha,d,n)\n",
        "print ('The signing phase value is', T)"
      ],
      "metadata": {
        "id": "eOVqlOGz4RUC",
        "colab": {
          "base_uri": "https://localhost:8080/"
        },
        "outputId": "d22c89f9-136b-4cc1-f002-e4bd02096e82"
      },
      "execution_count": null,
      "outputs": [
        {
          "output_type": "stream",
          "name": "stdout",
          "text": [
            "The signing phase value is 7967567744258008155047687773787262400062310205304560125705987709565050324304491551957934256673927721712185478742167067194088132067028081284040092998099901292024314701373575991782068587929469301320592604302497273131858169943120591901811179250549418783520457949111545458328820402892337810135819264747365936279973635769873100414752573358271428368547867263685225146610815668400892274091817902456718606446443118222790104319277772171870113086019292526505222173087068321079704635332948266904645028959575625245057174529690108952454256322811719714345808914822822842408699830831257880079992573809489973914989294293619790620039\n"
          ]
        }
      ]
    },
    {
      "cell_type": "markdown",
      "source": [
        "----------Unblinding Phase----------"
      ],
      "metadata": {
        "id": "nyNhyHmqMrIF"
      }
    },
    {
      "cell_type": "code",
      "source": [
        "temp2 = modInverse(r,n)\n",
        "temp3 = T*temp2\n",
        "S = pow(temp3,1,n)\n",
        "print ('The value of unblinding phase is:', S)"
      ],
      "metadata": {
        "id": "6EbjIBFn4b2k",
        "colab": {
          "base_uri": "https://localhost:8080/"
        },
        "outputId": "4b73ec97-a696-4952-c255-41bc29d43a40"
      },
      "execution_count": null,
      "outputs": [
        {
          "output_type": "stream",
          "name": "stdout",
          "text": [
            "The value of unblinding phase is: 6963340883848518566048369209162370485140049245525838713967489238638886437656249455784928502823784410059476872286004769526666437235883281206612437004888975185731604448348137664431626837318607255552744352119196318266196098388828274602479646500743818096361205291606866897343505244084696882525634460732266129503773861337946782346325005614001516790905928817993647729866034713980424201631671213371487776194680518013505895032109476084764850396202056450638411660094197013732407358542215912742270447511993546750758242098446451597462713903513539897823138461810288752247136751456426069879961086073720632541899701267434799710927\n"
          ]
        }
      ]
    },
    {
      "cell_type": "markdown",
      "source": [
        "--------------Verification Phase-------------"
      ],
      "metadata": {
        "id": "G1neFX2oMvrd"
      }
    },
    {
      "cell_type": "code",
      "source": [
        "result=pow(S,e,n)\n",
        "print(\"The Output is: \",result)\n",
        "# if output==message:\n",
        "#   print(\"The Output is: \",l)"
      ],
      "metadata": {
        "id": "VtDCmPFf4gtz",
        "colab": {
          "base_uri": "https://localhost:8080/"
        },
        "outputId": "13e85a5a-c596-42cc-94cc-e8a02b351bd0"
      },
      "execution_count": null,
      "outputs": [
        {
          "output_type": "stream",
          "name": "stdout",
          "text": [
            "The Output is:  1234567\n"
          ]
        }
      ]
    }
  ]
}